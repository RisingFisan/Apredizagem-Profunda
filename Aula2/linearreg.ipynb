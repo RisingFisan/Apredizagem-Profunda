{
 "cells": [
  {
   "cell_type": "code",
   "execution_count": 22,
   "metadata": {},
   "outputs": [],
   "source": [
    "import numpy as np\n",
    "import matplotlib.pyplot as plt"
   ]
  },
  {
   "cell_type": "code",
   "execution_count": 23,
   "metadata": {},
   "outputs": [],
   "source": [
    "class Dataset:\n",
    "    def __init__(self, filename=None, X=None, Y=None):\n",
    "\n",
    "        if filename is not None:\n",
    "            self.readDataset(filename)\n",
    "        elif X is not None and Y is not None:\n",
    "            self.X = X\n",
    "            self.Y = Y\n",
    "    \n",
    "    def readDataset(self, filename, sep = \",\"):\n",
    "        data = np.genfromtxt(filename, delimiter=sep)\n",
    "        self.X = data[:,0:-1]\n",
    "        self.Y = data[:,-1]\n",
    "\n",
    "    def getXy(self):\n",
    "        return self.X, self.Y"
   ]
  },
  {
   "cell_type": "code",
   "execution_count": 24,
   "metadata": {},
   "outputs": [],
   "source": [
    "def plotData_2vars(X, Y, xlabel, ylabel):\n",
    "    plt.plot(X, Y, 'rx', markersize=7)\n",
    "    plt.ylabel(ylabel)\n",
    "    plt.xlabel(xlabel)\n",
    "    plt.show()"
   ]
  },
  {
   "cell_type": "code",
   "execution_count": 25,
   "metadata": {},
   "outputs": [],
   "source": [
    "def standardize(X):\n",
    "    Xmed = np.mean(X, axis = 0)\n",
    "    Xsigma = np.std(X, axis = 0)\n",
    "    return (X-Xmed)/Xsigma\n",
    "def normalize(X):\n",
    "    Xmax = np.max(X, axis = 0)\n",
    "    Xmin = np.min(X, axis = 0)\n",
    "    return (X-Xmin)/(Xmax-Xmin)"
   ]
  },
  {
   "cell_type": "code",
   "execution_count": 26,
   "metadata": {},
   "outputs": [],
   "source": [
    "def error_sqe(predictions,y):\n",
    "    m = predictions.shape[0]\n",
    "    #predictions = np.dot(self.X, self.theta)\n",
    "    sqe = (predictions - y) ** 2\n",
    "    res = np.sum(sqe) / (2*m)\n",
    "    return res"
   ]
  },
  {
   "cell_type": "code",
   "execution_count": 27,
   "metadata": {},
   "outputs": [],
   "source": [
    "class LinearRegression:\n",
    "    def __init__(self, dataset, standardization = False, regularization = False, lamda = 1):\n",
    "        self.X, self.y = dataset.getXy()\n",
    "        self.standardization = standardization\n",
    "        self.regularization = regularization\n",
    "        self.lamda = lamda\n",
    "        self.X = np.hstack((np.ones([self.X.shape[0],1]), self.X ))\n",
    "        self.theta = np.zeros(self.X.shape[1])\n",
    "        if self.standardization:\n",
    "            self.X[:,1:] = standardize(self.X[:,1:])\n",
    "\n",
    "    def buildModel(self):\n",
    "        from numpy.linalg import inv\n",
    "        if self.regularization:\n",
    "            self.theta = self.analyticalWithReg()\n",
    "        else:\n",
    "            self.theta = inv(self.X.T.dot(self.X)).dot(self.X.T).dot(self.y)\n",
    "\n",
    "    def analyticalWithReg(self):\n",
    "        from numpy.linalg import inv\n",
    "        matl = np.zeros([self.X.shape[1], self.X.shape[1]])\n",
    "        for i in range(1,self.X.shape[1]):\n",
    "            matl[i,i] = self.lamda\n",
    "        theta = inv(self.X.T.dot(self.X) + matl).dot(self.X.T).dot(self.y)\n",
    "        return theta    \n",
    "\n",
    "    def predictions (self): #previsões dos casos de teste\n",
    "        return np.dot(self.X, self.theta)\n",
    "\n",
    "    def predict(self, instance):\n",
    "        x = np.empty([self.X.shape[1]])\n",
    "        x[0] = 1 #na 1ª posição coloca um 1\n",
    "        x[1:] = np.array(instance[:self.X.shape[1]-1])\n",
    "        print(instance)\n",
    "        print(x)\n",
    "        if self.standardization:\n",
    "            #x[1:] = (x[1:] - self.mu) / self.sigma\n",
    "            x[1:] = standardize(x[1:])\n",
    "        return np.dot(self.theta, x)\n",
    "    \n",
    "    def costFunction(self):\n",
    "        J = error_sqe(self.predictions(),self.y)\n",
    "        return J\n",
    "\n",
    "    def gradientDescent (self, iterations = 1000, alpha = 0.001):\n",
    "        m = self.X.shape[0]\n",
    "        n = self.X.shape[1]\n",
    "        self.theta = np.zeros(n)\n",
    "        if self.regularization:\n",
    "            lamdas = np.zeros([self.X.shape[1]])\n",
    "            for i in range(1,self.X.shape[1]):\n",
    "                lamdas[i] = self.lamda\n",
    "        for its in range(iterations):\n",
    "            #predictions = np.dot(self.X, self.theta)\n",
    "            J = error_sqe(self.predictions(),self.y)\n",
    "            if its%100 == 0: print(J)\n",
    "            delta = self.X.T.dot(self.X.dot(self.theta) - self.y)\n",
    "            if self.regularization:\n",
    "                self.theta -= (alpha/m * (lamdas+delta))\n",
    "            else: self.theta -= (alpha/m * delta )\n",
    "\n",
    "    def getXy (self):\n",
    "        return self.X[:,1], self.y\n",
    "\n",
    "    def getX (self):\n",
    "        return self.X\n",
    "\n",
    "    def get_theta (self):\n",
    "        return self.theta"
   ]
  },
  {
   "cell_type": "code",
   "execution_count": 28,
   "metadata": {},
   "outputs": [
    {
     "data": {
      "image/png": "[encoded data removed]",
      "text/plain": [
       "<Figure size 432x288 with 1 Axes>"
      ]
     },
     "metadata": {
      "needs_background": "light"
     },
     "output_type": "display_data"
    },
    {
     "name": "stdout",
     "output_type": "stream",
     "text": [
      "Cost function value for theta with zeros:\n",
      "32.072733877455676\n"
     ]
    },
    {
     "data": {
      "image/png": "[encoded data removed]",
      "text/plain": [
       "<Figure size 432x288 with 1 Axes>"
      ]
     },
     "metadata": {
      "needs_background": "light"
     },
     "output_type": "display_data"
    },
    {
     "name": "stdout",
     "output_type": "stream",
     "text": [
      "Cost function value for theta with zeros:\n",
      "32.072733877455676\n"
     ]
    }
   ],
   "source": [
    "def test_2var_1(regul = False):\n",
    "    ds= Dataset(\"lr-example1.data\")\n",
    "    if regul:\n",
    "        lrmodel = LinearRegression(ds, True, True, 100.0)\n",
    "    else:\n",
    "        lrmodel = LinearRegression(ds)\n",
    "    X,y = lrmodel.getXy()\n",
    "    plotData_2vars(X,y,\"Population(X)\", \"Profit(y)\")\n",
    "    print(\"Cost function value for theta with zeros:\")\n",
    "    print(lrmodel.costFunction())\n",
    "    \n",
    "test_2var_1(False)\n",
    "test_2var_1(True)"
   ]
  },
  {
   "cell_type": "code",
   "execution_count": null,
   "metadata": {},
   "outputs": [],
   "source": [
    "def test_2var_3(regul = False):\n",
    "    ds= Dataset(\"lr-example1.data\")\n",
    "    if regul:\n",
    "        lrmodel = LinearRegression(ds, True, True, 100.0)\n",
    "    else:\n",
    "        lrmodel = LinearRegression(ds)\n",
    "    print(f\"Model with analytical solution. Regularização = {regul}\")\n",
    "    lrmodel.buildModel()\n",
    "    print(f\"Cost function value for theta from analytical solution. Regularização = {regul}\")\n",
    "    print(lrmodel.costFunction())\n",
    "    X,y = lrmodel.getXy()\n",
    "    print(f\"Casos. Regularização = {regul}\")\n",
    "    print(f\"Shape: {X.shape}\")\n",
    "    print(X)\n",
    "    print(f\"Labels. Regularização = {regul}\")\n",
    "    print(f\"Shape: {y.shape}\")\n",
    "    print(y)\n",
    "    print(f\"Coeficientes da solução analitica. Regularização = {regul}\")\n",
    "    theta = lrmodel.get_theta ()\n",
    "    print(f\"Shape: {theta.shape}\")\n",
    "    print(theta)\n",
    "    print(f\"Previsão para os casos de Treino usando o modelo. Regularização = {regul}\")\n",
    "    pred = lrmodel.predictions()\n",
    "    print(pred.shape)\n",
    "    print(pred)\n",
    "    plotDataAndModel(X,y,pred, \"Population\", \"Profit\")\n",
    "\n",
    "test_2var_3(False)\n",
    "test_2var_3(True)"
   ]
  }
 ],
 "metadata": {
  "interpreter": {
   "hash": "e7370f93d1d0cde622a1f8e1c04877d8463912d04d973331ad4851f04de6915a"
  },
  "kernelspec": {
   "display_name": "Python 3.10.2 64-bit",
   "language": "python",
   "name": "python3"
  },
  "language_info": {
   "codemirror_mode": {
    "name": "ipython",
    "version": 3
   },
   "file_extension": ".py",
   "mimetype": "text/x-python",
   "name": "python",
   "nbconvert_exporter": "python",
   "pygments_lexer": "ipython3",
   "version": "3.10.2"
  },
  "orig_nbformat": 4
 },
 "nbformat": 4,
 "nbformat_minor": 2
}
