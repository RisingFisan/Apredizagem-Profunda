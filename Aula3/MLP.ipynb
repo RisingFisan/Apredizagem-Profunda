{
 "cells": [
  {
   "cell_type": "code",
   "execution_count": null,
   "metadata": {},
   "outputs": [],
   "source": [
    "import numpy as np"
   ]
  },
  {
   "cell_type": "code",
   "execution_count": null,
   "metadata": {},
   "outputs": [],
   "source": [
    "class Dataset:\n",
    "    def __init__(self, filename=None, X=None, Y=None):\n",
    "\n",
    "        if filename is not None:\n",
    "            self.readDataset(filename)\n",
    "        elif X is not None and Y is not None:\n",
    "            self.X = X\n",
    "            self.Y = Y\n",
    "    \n",
    "    def readDataset(self, filename, sep = \",\"):\n",
    "        data = np.genfromtxt(filename, delimiter=sep)\n",
    "        self.X = data[:,0:-1]\n",
    "        self.Y = data[:,-1]\n",
    "\n",
    "    def getXy(self):\n",
    "        return self.X, self.Y"
   ]
  },
  {
   "cell_type": "code",
   "execution_count": 1,
   "metadata": {},
   "outputs": [],
   "source": [
    "class MLP:\n",
    "    def __init__(self, ds, hidden_nodes = 2, normalize = False):\n",
    "        self.X, self.y = ds.getXy()\n",
    "        self.X = np.hstack((np.ones([self.X.shape[0],1]), self.X))\n",
    "        self.h = hidden_nodes\n",
    "        self.w1 = np.zeros([hidden_nodes, self.X.shape[1]])\n",
    "        self.w2 = np.zeros([1, hidden_nodes+1])\n",
    "        if normalize:\n",
    "            self.normalize()\n",
    "        else:\n",
    "            self.normalized = False\n",
    "\n",
    "    def predict(self, instance):\n",
    "        x = np.empty([self.X.shape[1]])\n",
    "        x[0] = 1\n",
    "        x[1:] = np.array(instance[:self.X.shape[1]-1])\n",
    "\n",
    "        if self.normalized:\n",
    "            a1 = np.dot(self.w1, x)\n",
    "            b = np.empty(a1.shape[0] + 1)\n",
    "            b[0] = 1\n",
    "            b[1:] = sigmoid(a1)\n",
    "            c = np.dot(self.w2, b)\n",
    "            return sigmoid(c)\n",
    "\n",
    "    def costFunction(self):\n",
    "        m = self.X.shape[0]\n",
    "        z = np.dot(self.X, self.w1)\n",
    "        a2 = np.hstack(np.ones([z.shape[0],1]),sigmoid(z))\n",
    "        z2 = np.dot(a2, self.w2)\n",
    "        predict = sigmoid(z2)\n",
    "        sqe = (predict - self.reshape(m,1)) ** 2 \n",
    "        res = np.sum(sqe) / (2 * m)\n",
    "        return res\n",
    "\n",
    "    def setWeights(self, w1, w2):\n",
    "        self.w1 = w1\n",
    "        self.w2 = w2\n",
    "\n",
    "def test():\n",
    "    ds = Dataset(\"xnor.data\")\n",
    "    nn = MLP(ds, 2)\n",
    "    w1 = np.array([[-30,20,20],[10,-20,-20]])\n",
    "    w2 = np.array([[-10, 20, 20]])\n",
    "    nn.setWeights(w1,w2)\n",
    "\n",
    "    print(nn.predict(np.array([0,0])))\n",
    "    print(nn.predict(np.array([0,1])))\n",
    "    print(nn.predict(np.array([1,0])))\n",
    "    print(nn.predict(np.array([1,1])))\n",
    "    print(nn.costFunction())\n",
    "\n",
    "test()"
   ]
  }
 ],
 "metadata": {
  "interpreter": {
   "hash": "e7370f93d1d0cde622a1f8e1c04877d8463912d04d973331ad4851f04de6915a"
  },
  "kernelspec": {
   "display_name": "Python 3.10.2 64-bit",
   "language": "python",
   "name": "python3"
  },
  "language_info": {
   "codemirror_mode": {
    "name": "ipython",
    "version": 3
   },
   "file_extension": ".py",
   "mimetype": "text/x-python",
   "name": "python",
   "nbconvert_exporter": "python",
   "pygments_lexer": "ipython3",
   "version": "3.10.2"
  },
  "orig_nbformat": 4
 },
 "nbformat": 4,
 "nbformat_minor": 2
}
